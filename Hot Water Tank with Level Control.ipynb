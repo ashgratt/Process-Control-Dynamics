{
 "cells": [
  {
   "cell_type": "markdown",
   "id": "3e962b45-4ac6-41cd-9a6f-acbd44419d3a",
   "metadata": {},
   "source": [
    "# Hot Water Tank with Level Control\n",
    "\n",
    "This Jupyter Notebook demonstrates the development of a process dynamics and control model for a hot water storage tank on a fictional chemical plant that utilises hot water for various process demands, such as washing, flushing and as part of product recipes.\n",
    "\n",
    "## 1. Importing Relevant Packages\n",
    "\n",
    "The Python script requires the relevant packages to be imported, to complete some of the calculations.\n"
   ]
  },
  {
   "cell_type": "code",
   "execution_count": 321,
   "id": "0482c737-34de-4415-b22a-f0361f05644d",
   "metadata": {},
   "outputs": [],
   "source": [
    "import numpy as np\n",
    "\n",
    "import matplotlib.pyplot as plt"
   ]
  },
  {
   "cell_type": "markdown",
   "id": "48ebe3e2-6eec-402e-be86-a7666c010552",
   "metadata": {},
   "source": [
    "## 3. Definition of System Parameters\n",
    "\n",
    "Second, the system needs to be defined geometrically by the diameter (D), height (H) and hence this allows us to calculate the volume (V).\n",
    "\n",
    "The opportunity will also be taken to calculate the cross-sectional area of the vessel, for future use.\n",
    "\n",
    "All system units are in SI units - i.e. metres, seconds, kg."
   ]
  },
  {
   "cell_type": "code",
   "execution_count": 324,
   "id": "88046c2e-16ee-41fd-8b95-ce9729d0acd4",
   "metadata": {},
   "outputs": [
    {
     "name": "stdout",
     "output_type": "stream",
     "text": [
      "Tank has a volume of 100.0 m3.\n"
     ]
    }
   ],
   "source": [
    "D = 5.0\n",
    "\n",
    "H = 5.1\n",
    "\n",
    "CSA = 0.25 * np.pi * D**2\n",
    "\n",
    "Vmax = CSA * H\n",
    "\n",
    "print('Tank has a volume of ' + str(round(Vmax,0)) + \" m3.\")"
   ]
  },
  {
   "cell_type": "markdown",
   "id": "efee21c4-13f0-4209-8a2c-a6b55f5730b4",
   "metadata": {},
   "source": [
    "## 4. Define the Initial Conditions of the System\n",
    "\n",
    "Lets suppose that the tank starts out as empty, meaning that the initial level is zero %. We can calculate the volume of liquid in the tank at this initial condition, as below."
   ]
  },
  {
   "cell_type": "code",
   "execution_count": 327,
   "id": "c6f9f18e-acf0-40d6-b6fa-5b0f4a98fe0b",
   "metadata": {},
   "outputs": [
    {
     "name": "stdout",
     "output_type": "stream",
     "text": [
      "Tank has an initial level of 0.0 m3.\n"
     ]
    }
   ],
   "source": [
    "L0 = 0 # Defined in percentage terms, but decimalised.\n",
    "\n",
    "V0 = L0 * CSA\n",
    "\n",
    "print('Tank has an initial level of ' + str(round(V0,0)) + \" m3.\")"
   ]
  },
  {
   "cell_type": "markdown",
   "id": "4274fc1b-7d7e-45c8-b85d-be7d725fe80f",
   "metadata": {},
   "source": [
    "## 5. Establish the Governing Equations of the Tank Level\n",
    "\n",
    "Fundamentally, the tank level, when subject to filling and emptying, is governed by a volume balance against time, assuming a constant density.\n",
    "\n",
    "$$\\frac{dV}{dt} = Q_1 - Q_2 $$\n",
    "\n",
    "Whereby $V=$ volume in tank, $Q_1$= inlet flow rate, $Q_2$= outlet flow rate, $t$= time.\n",
    "\n",
    "This differential equation fundamentally comes down to the traditional mass balance in chemical engineering of: \"in - out = accumulation\". There are no generation or consumption terms.\n",
    "\n",
    "This particular differential equation is simple and can be integrated analytically.\n",
    "\n",
    "The particular solution, parameterised by general conditions, becomes:\n",
    "\n",
    "$$ V = V_0 + (Q_1 - Q_2)(t-t_0)$$\n",
    "\n",
    "Whereby $V_0=$ initial volume and $t_0$= initial time. \n",
    "\n",
    "For the purposes of this modelling, the analytical equation cannot be used, since it assumes that $Q_1$ and $Q_2$ are constant with respect to time, which is not the vision for this system. We intend to introduce changes to $Q_1$ and/or $Q_2$ at different points in time."
   ]
  },
  {
   "cell_type": "markdown",
   "id": "a2697615-d012-47e3-b596-b5ef217c6fd7",
   "metadata": {},
   "source": [
    "## 6. Defining the System Behaviour - Flow Rates\n",
    "\n",
    "With the two variables being $Q_1$ and $Q_2$, we need to decide how we want these to vary. Now it stands to reason that the filling rate, $Q_1$, might be constant, based on a reliable and consistent mains water supply. \n",
    "\n",
    "By contrast, depending on the number of downstream users, the outflow rate, $Q_2$, may vary.\n",
    "\n",
    "We are going to define the inlet flow rate, as a constant, as per the below. The number inside the parentheses is in units of $m^3\\ h^{-1}$, with the conversion to SI units ($m^3\\ s^{-1}$) taking place outside of the parentheses.\n",
    "\n",
    "We are going to permit $Q_1$ to take a value of zero, as well as the one defined below."
   ]
  },
  {
   "cell_type": "code",
   "execution_count": 300,
   "id": "3f47ac54-0674-4f5d-bb59-e76d0ef801d8",
   "metadata": {},
   "outputs": [],
   "source": [
    "Qin = (15) / 3600"
   ]
  },
  {
   "cell_type": "markdown",
   "id": "3800e300-0bad-4a1c-92ce-5328b18efe59",
   "metadata": {},
   "source": [
    "## 7. Defining the System Behaviour - Control Philosophy\n",
    "\n",
    "By virtue of the tank being on level control, we want to define some type of control philosophy.\n",
    "\n",
    "There are a couple of options, namely:\n",
    "\n",
    "- On/off control; OR\n",
    "- PID control.\n",
    "\n",
    "On/off control is going to be used in this model and effectively means that the flow in, can either be 'on' or 'off', with no capacity to modulate. This mode of control will require us to define an upper and lower control point, with the 'space' in between being called a 'deadband'.\n",
    "\n",
    "PID control would seek to maintain the level at a single constant value, albeit with some variance, depending on the PID tuning and outflow.\n",
    "\n",
    "The control points for the on/off control are defined below. The values in the parentheses constitute the percentage level but decimalised."
   ]
  },
  {
   "cell_type": "code",
   "execution_count": 334,
   "id": "19d0949d-3ce3-43e8-a400-8feb9a6aaaba",
   "metadata": {},
   "outputs": [
    {
     "name": "stdout",
     "output_type": "stream",
     "text": [
      "The control points are between 20.0 % and 80.0 % of maximum working volume.\n"
     ]
    }
   ],
   "source": [
    "Vupper = (0.8) * Vmax\n",
    "\n",
    "Vlower = (0.2) * Vmax\n",
    "\n",
    "print('The control points are between ' + str(round(Vlower/Vmax*100,0)) + ' % and '+ str(round(Vupper/Vmax*100,0)) + ' % of maximum working volume.')"
   ]
  },
  {
   "cell_type": "markdown",
   "id": "57c48f5f-7b10-406d-8807-732abe376c7a",
   "metadata": {},
   "source": [
    "The two values chosen above are reasonable, with most hot water systems of this type perhaps being fitted with a high high level trip, lets say arbitrarily at 90 % level, the system 'trips' such that it cannot be overfilled."
   ]
  },
  {
   "cell_type": "markdown",
   "id": "12d7f262-c0c9-42ac-b69b-f7eb8f7e7b06",
   "metadata": {},
   "source": [
    "## 8. Defining the Differential Equation Function for Level\n",
    "\n",
    "We must make the differential equation into a function that can be called, as part of the iteratve loop, as the simulation runs."
   ]
  },
  {
   "cell_type": "code",
   "execution_count": 305,
   "id": "31e5c780-3571-48e7-ac57-199273aed545",
   "metadata": {},
   "outputs": [],
   "source": [
    "def dVdt(Q1, Q2): \n",
    "\n",
    "    dVdt = Q1 - Q2\n",
    "    \n",
    "    return dVdt"
   ]
  },
  {
   "cell_type": "markdown",
   "id": "8836326a-aead-4161-afac-b061de5657d4",
   "metadata": {},
   "source": [
    "## 9. Set up the Iterative Loop Parameters\n",
    "\n",
    "Part of most iterative loops in programming require the definition of a time vector and empty arrays in which to store the iterated values.\n",
    "\n",
    "Below shows the initial time, $t_0$, final time, $t_f$ and time step, $dt$ all defined. \n",
    "\n",
    "Below that is the definition of n_steps, which tells the empty arrays how large they need to be, based on the number of time steps to iterate.\n",
    "\n",
    "The final time has been coded such that the number of days can be input to the first set of parentheses."
   ]
  },
  {
   "cell_type": "code",
   "execution_count": 340,
   "id": "9e47d076-eeec-42ef-b546-ab1e3b1bf6b2",
   "metadata": {},
   "outputs": [],
   "source": [
    "t0 = 0\n",
    "tf = (7)*(24)*(3600)\n",
    "dt = 1\n",
    "\n",
    "n_steps = int(tf/ dt)+1\n",
    "\n",
    "t = np.zeros(n_steps)\n",
    "V = np.zeros(n_steps)\n",
    "\n",
    "# Set initial values of the empty arrays, as per the defined initial volume and initial time.\n",
    "t[0] = t0\n",
    "V[0] = V0\n"
   ]
  },
  {
   "cell_type": "markdown",
   "id": "6cc3ea33-fa37-4942-8ef5-fa2e8eeaae4f",
   "metadata": {},
   "source": [
    "## 10. Iterative Loop & Results\n",
    "\n",
    "Below is the iterative loop for the solver, with a built-in deadband for the level control.\n",
    "\n",
    "It iterates through the number of steps defined above and populates the time/volume vectors after each iteration. \n",
    "\n",
    "The upper and lower deadbands are defined in the first two sections of code, with two adjustments made to the emptying rate at configurable time values (e.g. 10 % of final time etc.).\n",
    "\n",
    "The Euler method has been used to solve the differential equation, with a step size defined as $dt$ above. Other methods may include the 'Improve Euler' method, or Runge-Kutta methods of higher orders. Python's odeint function could be used also.\n",
    "\n",
    "Some post-results processing then takes place to make the time units into a more convenient set of units, with the processed results then being plotted."
   ]
  },
  {
   "cell_type": "code",
   "execution_count": 345,
   "id": "5f307e79-ce6a-4c2d-b0c2-e43f07291def",
   "metadata": {},
   "outputs": [
    {
     "data": {
      "text/plain": [
       "Text(0, 0.5, 'Volume [m3]')"
      ]
     },
     "execution_count": 345,
     "metadata": {},
     "output_type": "execute_result"
    },
    {
     "data": {
      "image/png": "[encoded data removed]",
      "text/plain": [
       "<Figure size 640x480 with 1 Axes>"
      ]
     },
     "metadata": {},
     "output_type": "display_data"
    }
   ],
   "source": [
    "for i in range(1, n_steps):\n",
    "\n",
    "    # Lower deadband\n",
    "    if V[i-1] < Vlower:\n",
    "        Q1 = Qin\n",
    "        Q2 = (1)/3600\n",
    "\n",
    "     # Upper deadband\n",
    "    elif V[i-1] >= Vupper:\n",
    "        Q1 = 0\n",
    "        Q2=(5)/3600\n",
    "\n",
    "    # Adjustment to system dynamics, to mimic a change in demand downstream at X % of the full time.\n",
    "    if t[i]>0.1*tf:\n",
    "        Q2=(2)/3600\n",
    "\n",
    "    # Second adjustment to system dynamics at X % of the full time.\n",
    "    if t[i]>0.75*tf:\n",
    "        Q2=(10)/3600\n",
    "\n",
    "    # Euler Method for solving the differential equation and populating the time / volume arrays.\n",
    "    t[i] = t[i-1] + dt\n",
    "    V[i] = V[i-1] + dt * dVdt(Q1, Q2)\n",
    "\n",
    "# Conveinence units.\n",
    "t_hours = t/3600\n",
    "\n",
    "# Plot the results.\n",
    "plt.plot(t_hours, V)\n",
    "plt.xlabel('Time [h]')\n",
    "plt.ylabel('Volume [m3]')"
   ]
  },
  {
   "cell_type": "markdown",
   "id": "015d5ec2-3daf-4ffb-ba36-2ea0face63c0",
   "metadata": {},
   "source": [
    "## 11. Conclusion\n",
    "\n",
    "As it stands, we have successfully coded a basic tank on a deadband on/off style level control. The disturbances can be seen at the specified time intervals, as can the bouncing / saw-toothing between the high and low control points.\n",
    "\n",
    "The user interface is relatively poor, as the adjustments to system dynamics are mostly made within the code itself.\n",
    "\n",
    "There isn't really much else to the model either, it's just a basic volume balance across a tank!\n",
    "\n",
    "## 12. Suggested Uses\n",
    "\n",
    "Try to vary the $Q_1$ and $Q_2$ values, as well as the times and degrees to which these values are changed. \n",
    "\n",
    "Try to vary the initial level setpoint and control points, see how the system responds.\n",
    "\n",
    "\n",
    "## 13. Improvements\n",
    "\n",
    "In terms of improvements, we could:\n",
    "\n",
    "1. Increase the number of system dynamic changes that can be made, e.g. make it user defined as to how many changes are made to outlet flow rate OR make the downstream water demand random / stochastic, to better mimic a real application.\n",
    "\n",
    "2. Provide the user with a better means of inputting custom data, e.g. allow the user to more easily define their own custom inputs.\n",
    "\n",
    "3. Introduce the ability for the user to define whether they wish to use PID control, or on/off control.\n",
    "\n",
    "4. Add additional parameters to control, such as tank temperature, with some kind of temperature control loop.\n",
    "\n",
    "5. There is no in-built sensible logic in the model, such that overfilling events are identified, or negative volumes are challenged.\n"
   ]
  },
  {
   "cell_type": "code",
   "execution_count": null,
   "id": "239022cf-92d7-48bf-b6f4-60cee08f74eb",
   "metadata": {},
   "outputs": [],
   "source": []
  }
 ],
 "metadata": {
  "kernelspec": {
   "display_name": "Python [conda env:base] *",
   "language": "python",
   "name": "conda-base-py"
  },
  "language_info": {
   "codemirror_mode": {
    "name": "ipython",
    "version": 3
   },
   "file_extension": ".py",
   "mimetype": "text/x-python",
   "name": "python",
   "nbconvert_exporter": "python",
   "pygments_lexer": "ipython3",
   "version": "3.11.5"
  }
 },
 "nbformat": 4,
 "nbformat_minor": 5
}
